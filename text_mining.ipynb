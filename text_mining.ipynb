{
 "cells": [
  {
   "cell_type": "code",
   "execution_count": 1,
   "metadata": {},
   "outputs": [],
   "source": [
    "import pandas as pd\n",
    "import numpy as np\n",
    "import scipy as sp\n",
    "from FE import FE\n",
    "from FE import text_process"
   ]
  },
  {
   "cell_type": "code",
   "execution_count": 2,
   "metadata": {},
   "outputs": [],
   "source": [
    "wine_df = pd.read_csv('winemag-data-130k-v2.csv')"
   ]
  },
  {
   "cell_type": "code",
   "execution_count": 3,
   "metadata": {},
   "outputs": [],
   "source": [
    "# compiling a list of wine varieties to filter the dataframe by\n",
    "keepers = list(wine_df.variety.value_counts()[wine_df.variety.value_counts() >= 1000].index)"
   ]
  },
  {
   "cell_type": "code",
   "execution_count": 4,
   "metadata": {},
   "outputs": [],
   "source": [
    "# filtering the dataframe\n",
    "filtered_wine = wine_df[wine_df.variety.isin(keepers)].copy(deep=True).reset_index()\n",
    "filtered_wine['variety'] = filtered_wine['variety'].str.replace('(\\s|-)','_').str.lower()"
   ]
  },
  {
   "cell_type": "code",
   "execution_count": 5,
   "metadata": {},
   "outputs": [],
   "source": [
    "processed_wine = text_process(filtered_wine, merged=False)"
   ]
  },
  {
   "cell_type": "code",
   "execution_count": 6,
   "metadata": {},
   "outputs": [],
   "source": [
    "from sklearn.model_selection import train_test_split\n",
    "from sklearn.metrics import classification_report\n",
    "\n",
    "y = filtered_wine.variety\n",
    "X = processed_wine\n",
    "\n",
    "X_train, X_test, y_train, y_test = train_test_split(X, y, test_size=0.33, random_state=42)"
   ]
  },
  {
   "cell_type": "markdown",
   "metadata": {},
   "source": [
    "# Multinomial NB Prediction"
   ]
  },
  {
   "cell_type": "code",
   "execution_count": 20,
   "metadata": {},
   "outputs": [
    {
     "name": "stdout",
     "output_type": "stream",
     "text": [
      "                            precision    recall  f1-score   support\n",
      "\n",
      "               white_blend       0.53      0.70      0.60      2345\n",
      "            portuguese_red       0.84      0.17      0.28       339\n",
      "                pinot_gris       0.71      0.02      0.04       452\n",
      "                  riesling       0.49      0.69      0.57      3101\n",
      "                pinot_noir       0.72      0.42      0.53       437\n",
      "            gewürztraminer       0.62      0.89      0.73      3836\n",
      "        cabernet_sauvignon       0.83      0.14      0.24       319\n",
      "                chardonnay       0.85      0.10      0.18       344\n",
      "                    malbec       0.87      0.43      0.58       419\n",
      "                 red_blend       0.42      0.42      0.42       864\n",
      "                    merlot       0.72      0.06      0.11       997\n",
      "                     gamay       0.67      0.80      0.73       942\n",
      "           sauvignon_blanc       0.93      0.16      0.27       358\n",
      "bordeaux_style_white_blend       0.93      0.15      0.26       506\n",
      "                sangiovese       0.69      0.78      0.73      4402\n",
      "            cabernet_franc       0.63      0.62      0.62       826\n",
      "           champagne_blend       0.84      0.32      0.46       404\n",
      "  bordeaux_style_red_blend       0.51      0.62      0.56      2966\n",
      "                      rosé       0.86      0.20      0.32       484\n",
      "                 zinfandel       0.68      0.82      0.74      1727\n",
      "          grüner_veltliner       0.63      0.73      0.68      1163\n",
      "                     syrah       0.56      0.35      0.44       925\n",
      "                  nebbiolo       0.69      0.66      0.68      1660\n",
      "     rhône_style_red_blend       0.73      0.56      0.63       678\n",
      "          portuguese_white       0.59      0.41      0.49      1313\n",
      "           sparkling_blend       0.50      0.34      0.41       615\n",
      "              pinot_grigio       0.70      0.55      0.62       777\n",
      "               tempranillo       0.73      0.48      0.58       898\n",
      "\n",
      "                  accuracy                           0.61     34097\n",
      "                 macro avg       0.70      0.45      0.48     34097\n",
      "              weighted avg       0.64      0.61      0.58     34097\n",
      "\n"
     ]
    }
   ],
   "source": [
    "from sklearn.naive_bayes import MultinomialNB\n",
    "\n",
    "mnb = MultinomialNB()\n",
    "mnb.fit(X_train, y_train)\n",
    "mnb_pred = mnb.predict(X_test)\n",
    "class_names = filtered_wine['variety'].unique()\n",
    "print(classification_report(y_test, mnb_pred, target_names=class_names))"
   ]
  },
  {
   "cell_type": "markdown",
   "metadata": {},
   "source": [
    "# ComplementNB Prediction"
   ]
  },
  {
   "cell_type": "code",
   "execution_count": 22,
   "metadata": {},
   "outputs": [
    {
     "name": "stdout",
     "output_type": "stream",
     "text": [
      "                            precision    recall  f1-score   support\n",
      "\n",
      "               white_blend       0.50      0.73      0.59      2345\n",
      "            portuguese_red       0.67      0.14      0.23       339\n",
      "                pinot_gris       0.41      0.02      0.03       452\n",
      "                  riesling       0.53      0.65      0.58      3101\n",
      "                pinot_noir       0.82      0.41      0.55       437\n",
      "            gewürztraminer       0.58      0.90      0.70      3836\n",
      "        cabernet_sauvignon       0.85      0.27      0.41       319\n",
      "                chardonnay       0.83      0.31      0.46       344\n",
      "                    malbec       0.76      0.42      0.54       419\n",
      "                 red_blend       0.52      0.41      0.45       864\n",
      "                    merlot       0.53      0.03      0.05       997\n",
      "                     gamay       0.66      0.81      0.73       942\n",
      "           sauvignon_blanc       0.90      0.36      0.51       358\n",
      "bordeaux_style_white_blend       0.87      0.16      0.26       506\n",
      "                sangiovese       0.67      0.78      0.72      4402\n",
      "            cabernet_franc       0.77      0.49      0.60       826\n",
      "           champagne_blend       0.91      0.32      0.47       404\n",
      "  bordeaux_style_red_blend       0.49      0.71      0.58      2966\n",
      "                      rosé       0.72      0.46      0.56       484\n",
      "                 zinfandel       0.62      0.83      0.71      1727\n",
      "          grüner_veltliner       0.65      0.61      0.63      1163\n",
      "                     syrah       0.75      0.16      0.27       925\n",
      "                  nebbiolo       0.69      0.56      0.62      1660\n",
      "     rhône_style_red_blend       0.67      0.56      0.61       678\n",
      "          portuguese_white       0.63      0.32      0.42      1313\n",
      "           sparkling_blend       0.63      0.31      0.42       615\n",
      "              pinot_grigio       0.80      0.43      0.56       777\n",
      "               tempranillo       0.72      0.52      0.60       898\n",
      "\n",
      "                  accuracy                           0.60     34097\n",
      "                 macro avg       0.68      0.45      0.50     34097\n",
      "              weighted avg       0.63      0.60      0.57     34097\n",
      "\n"
     ]
    }
   ],
   "source": [
    "from sklearn.naive_bayes import ComplementNB\n",
    "\n",
    "cnb = ComplementNB(alpha=1.2)\n",
    "cnb.fit(X_train, y_train)\n",
    "cnb_pred = cnb.predict(X_test)\n",
    "print(classification_report(y_test, cnb_pred, target_names=class_names))"
   ]
  }
 ],
 "metadata": {
  "kernelspec": {
   "display_name": "Python 3",
   "language": "python",
   "name": "python3"
  },
  "language_info": {
   "codemirror_mode": {
    "name": "ipython",
    "version": 3
   },
   "file_extension": ".py",
   "mimetype": "text/x-python",
   "name": "python",
   "nbconvert_exporter": "python",
   "pygments_lexer": "ipython3",
   "version": "3.7.4"
  }
 },
 "nbformat": 4,
 "nbformat_minor": 4
}
